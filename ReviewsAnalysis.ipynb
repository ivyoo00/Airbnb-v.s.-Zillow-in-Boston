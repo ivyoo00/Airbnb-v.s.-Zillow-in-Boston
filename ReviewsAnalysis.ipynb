{
 "cells": [
  {
   "cell_type": "code",
   "execution_count": 1,
   "metadata": {},
   "outputs": [
    {
     "name": "stderr",
     "output_type": "stream",
     "text": [
      "/Users/Iris/anaconda/lib/python3.6/site-packages/nltk/twitter/__init__.py:20: UserWarning: The twython library has not been installed. Some functionality from the twitter package will not be available.\n",
      "  warnings.warn(\"The twython library has not been installed. \"\n"
     ]
    }
   ],
   "source": [
    "%matplotlib inline\n",
    "from datetime import datetime\n",
    "import pandas as pd\n",
    "import numpy as np\n",
    "import csv\n",
    "from nltk.sentiment.vader import SentimentIntensityAnalyzer\n",
    "import nltk\n",
    "import re\n",
    "from collections import Counter\n",
    "from wordcloud import WordCloud, STOPWORDS\n",
    "import matplotlib.pyplot as plt\n",
    "from sklearn.feature_extraction.text import TfidfVectorizer"
   ]
  },
  {
   "cell_type": "code",
   "execution_count": 2,
   "metadata": {
    "collapsed": true
   },
   "outputs": [],
   "source": [
    "df1 = pd.read_csv(\"airbnb_preprocessed1.csv\")\n",
    "df2 = pd.read_csv(\"reviews.csv\")\n",
    "new_table = dict()\n",
    "for index, row in df2.iterrows():\n",
    "    id = row['listing_id']\n",
    "    value = dict()\n",
    "    value[\"review\"] = \"\"\n",
    "    value[\"price\"] = 0\n",
    "    value[\"reviewscore_rating\"] = 0.0\n",
    "    value[\"count\"] = 0\n",
    "    new_table[id] = value"
   ]
  },
  {
   "cell_type": "code",
   "execution_count": 3,
   "metadata": {},
   "outputs": [
    {
     "name": "stdout",
     "output_type": "stream",
     "text": [
      "Index(['listing_id', 'id', 'date', 'reviewer_id', 'reviewer_name', 'comments'], dtype='object')\n"
     ]
    }
   ],
   "source": [
    "print(df2.columns)"
   ]
  },
  {
   "cell_type": "code",
   "execution_count": 4,
   "metadata": {},
   "outputs": [
    {
     "name": "stderr",
     "output_type": "stream",
     "text": [
      "IOPub data rate exceeded.\n",
      "The notebook server will temporarily stop sending output\n",
      "to the client in order to avoid crashing it.\n",
      "To change this limit, set the config variable\n",
      "`--NotebookApp.iopub_data_rate_limit`.\n"
     ]
    }
   ],
   "source": [
    "for index, row in df2.iterrows():\n",
    "    id = row['listing_id']\n",
    "    if new_table[id][\"count\"] <= 20:\n",
    "        new_table[id][\"count\"] += 1\n",
    "        new_table[id][\"review\"] += str(row['comments'])\n",
    "for index, row in df1.iterrows():\n",
    "    id = row['id']\n",
    "    if id in new_table.keys():\n",
    "        new_table[id]['price'] = row['price_class']\n",
    "        new_table[id][\"reviewscore_rating\"] = row[\"reviewscore_rating\"]\n",
    "print(new_table)\n"
   ]
  },
  {
   "cell_type": "code",
   "execution_count": 5,
   "metadata": {},
   "outputs": [
    {
     "name": "stdout",
     "output_type": "stream",
     "text": [
      "(3986, 4)\n",
      "            id  price_class  rating_score  \\\n",
      "0      7441144            1          88.0   \n",
      "1     12233830            1          95.0   \n",
      "2     14586440            4          90.0   \n",
      "3     20704205            3         100.0   \n",
      "4      6291807            2         100.0   \n",
      "5     15444930            2          90.0   \n",
      "6      1596470            2         100.0   \n",
      "7      8211468            4          97.0   \n",
      "8     19824694            4         100.0   \n",
      "9      8063815            4         100.0   \n",
      "10     8082512            5          88.0   \n",
      "11    14767573            3         100.0   \n",
      "12    20726840            2          87.0   \n",
      "13    17526985            1          91.0   \n",
      "14    13707814            4          92.0   \n",
      "15     4644069            4         100.0   \n",
      "16    16322051            3          99.0   \n",
      "17    11202183            4          97.0   \n",
      "18    20989824            5         100.0   \n",
      "19     3294775            2          92.0   \n",
      "20    15410121            1          98.0   \n",
      "21     5455293            4          94.0   \n",
      "22    20885932            2         100.0   \n",
      "23    11687031            5          98.0   \n",
      "24    20650592            1         100.0   \n",
      "25     4460532            3          97.0   \n",
      "26    14756184            3          97.0   \n",
      "27      619142            5          95.0   \n",
      "28     6908525            5          84.0   \n",
      "29    15470948            5         100.0   \n",
      "...        ...          ...           ...   \n",
      "3956  19384244            2          84.0   \n",
      "3957  18575841            1          97.0   \n",
      "3958  13249923            1         100.0   \n",
      "3959   4080849            5         100.0   \n",
      "3960  19173890            5          80.0   \n",
      "3961  10004575            2          98.0   \n",
      "3962  14994629            4          99.0   \n",
      "3963  11710680            4          97.0   \n",
      "3964   4699828            1          93.0   \n",
      "3965  15453527            1         100.0   \n",
      "3966   1340290            4          91.0   \n",
      "3967   8780440            2          87.0   \n",
      "3968   8227206            5          90.0   \n",
      "3969   5534206            3          60.0   \n",
      "3970  17856284            3          98.0   \n",
      "3971  20763306            1         100.0   \n",
      "3972  11022736            1          80.0   \n",
      "3973   8388481            2          96.0   \n",
      "3974   2592416            3          97.0   \n",
      "3975   4593985            1          80.0   \n",
      "3976   2033103            3          93.0   \n",
      "3977   4593974            1          97.0   \n",
      "3978  15140520            5          89.0   \n",
      "3979  10945407            2          84.0   \n",
      "3980  11970702            5         100.0   \n",
      "3981  15851308            4          95.0   \n",
      "3982  19097569            5         100.0   \n",
      "3983   5870309            3          77.0   \n",
      "3984  15773389            1          80.0   \n",
      "3985    533114            1          93.0   \n",
      "\n",
      "                                                reviews  \n",
      "0     Pretty nice, quiet, cozy place to stay. Toilet...  \n",
      "1     Couldn't have been happier. The apartment was ...  \n",
      "2     Flexible host & great location. Rooftop access...  \n",
      "3     Had a great stay and would definitely stay aga...  \n",
      "4     We had a great experience. Nice landlord, she ...  \n",
      "5     Great apartment at awesome location. Apartment...  \n",
      "6     The reservation was canceled 32 days before ar...  \n",
      "7     Nice place to stay in, the location was great ...  \n",
      "8     Very good location,beside walkstreet and park,...  \n",
      "9     We were very pleased with Thursday and Kara's ...  \n",
      "10    This place was absolutely perfect for my week ...  \n",
      "11    The room was large and clean, with a comfortab...  \n",
      "12    Very nice house!good location and good host,we...  \n",
      "13    The location was fantastic. Close to good food...  \n",
      "14    This was our first time staying in an Air bnb ...  \n",
      "15    It was a great pleasure to stay over at Fiona'...  \n",
      "16    It's an awesome place to live if you want to e...  \n",
      "17    Norah is a very nice host , everything is clea...  \n",
      "18    The apartment was super clean, quiet and comfo...  \n",
      "19    Jessica was super helpful! My plans changed an...  \n",
      "20    Joe was a very nice host, the room was neat an...  \n",
      "21    Fantastic apartment very conveniently located ...  \n",
      "22    Excellent accomodation in a modern spick-and-s...  \n",
      "23    This is like a hotel without room service :) N...  \n",
      "24    Really beautifully decorated appartment in a g...  \n",
      "25    I had a good experience at Jonathan's place. H...  \n",
      "26    Staying at Soo Ji place was a nice experience....  \n",
      "27    We were the first to stay in the freshly renov...  \n",
      "28    I rented this studio for one week in July. It ...  \n",
      "29    The neighborhood couldn't have been any nicer....  \n",
      "...                                                 ...  \n",
      "3956  Great location and Eddie was responsive and ea...  \n",
      "3957  It's a very nice,quiet and family-liked place ...  \n",
      "3958  I chose this room for the cheap prize and the ...  \n",
      "3959  Had a great time in Boston and staying at Liz'...  \n",
      "3960  We had a lovely visit to Boston and this apart...  \n",
      "3961  The host canceled this reservation 156 days be...  \n",
      "3962  Chris was a great host, in fact I couldn't ask...  \n",
      "3963  This is one of the most beautiful apartment I ...  \n",
      "3964  We found Martin and Barbara's home to be nicer...  \n",
      "3965  Safety and cleanliness were the most important...  \n",
      "3966  I would NOT RECOMMEND staying at this accommod...  \n",
      "3967  We really appreciated the extra effort to make...  \n",
      "3968  Alexa was great. I arrived a little late, but ...  \n",
      "3969  Things started off good.... I messaged and cal...  \n",
      "3970  Sonder  is a good company with modest apartmen...  \n",
      "3971  Mac, Sean and Tom are really great hosts! They...  \n",
      "3972  We stayed at Aisha's studio for almost 2 month...  \n",
      "3973  Todd's place was great! It was my first airbnb...  \n",
      "3974  The place is enormous, fully renovated with at...  \n",
      "3975  Where to begin?\\nThe host: Huggy really made i...  \n",
      "3976  Stayed here for a week I have only good things...  \n",
      "3977  The house was in the middle of a quiet residen...  \n",
      "3978  Jason's place was perfect! Right the middle of...  \n",
      "3979  nice house in good loacation, i recommand this...  \n",
      "3980  Elizabeth was extremely thorough and helpful! ...  \n",
      "3981  ShaQuayla's apartment was located in a part of...  \n",
      "3982  Great placeNate has thought of everything.  \\n...  \n",
      "3983  We stayed here 2 weeks with our family (2+2) a...  \n",
      "3984  The host canceled this reservation 16 days bef...  \n",
      "3985  This condo is in excellent condition and is st...  \n",
      "\n",
      "[3986 rows x 4 columns]\n"
     ]
    }
   ],
   "source": [
    "review = []\n",
    "id = []\n",
    "price = []\n",
    "rating = []\n",
    "for key in new_table.keys():\n",
    "    id.append(key)\n",
    "    price.append(new_table[key]['price'])\n",
    "    rating.append(new_table[key][\"reviewscore_rating\"])\n",
    "    review.append(new_table[key][\"review\"])\n",
    "new_df = pd.DataFrame()\n",
    "new_df['id'] = id\n",
    "new_df['price_class'] = price\n",
    "new_df['rating_score'] = rating\n",
    "new_df['reviews'] = review\n",
    "print(new_df.shape)\n",
    "print(new_df)"
   ]
  },
  {
   "cell_type": "code",
   "execution_count": 6,
   "metadata": {
    "collapsed": true
   },
   "outputs": [],
   "source": [
    "df_1 = new_df[new_df.price_class == 1]\n",
    "df_3 = new_df[new_df.price_class == 3]\n",
    "df_5 = new_df[new_df.price_class == 5]\n",
    "reviews_1 = \"\"\n",
    "reviews_3 =\"\"\n",
    "reviews_5 =\"\"\n",
    "neg_1 = 0\n",
    "neg_3 = 0\n",
    "neg_5 = 0\n",
    "for index, row in df_1.iterrows():\n",
    "    reviews_1 += row[\"reviews\"]\n",
    "    if row['rating_score'] < 80:\n",
    "        neg_1 += 1\n",
    "for index, row in df_3.iterrows():\n",
    "    reviews_3 += row[\"reviews\"]\n",
    "    if row['rating_score'] < 80:\n",
    "        neg_3 += 1\n",
    "for index, row in df_5.iterrows():\n",
    "    reviews_5 += row[\"reviews\"]\n",
    "    if row['rating_score'] < 80:\n",
    "        neg_5 += 1"
   ]
  },
  {
   "cell_type": "code",
   "execution_count": 7,
   "metadata": {
    "collapsed": true
   },
   "outputs": [],
   "source": [
    "from nltk.corpus import stopwords\n",
    "\n",
    "def word_count(input):\n",
    "#     words = nltk.word_tokenize(input)\n",
    "    StopWords = stopwords.words(\"english\")\n",
    "    words = re.findall(r'\\w+', input)\n",
    "    words_lower = [word.lower() for word in words if word.strip() not in StopWords]\n",
    "    words_lower = [word.lower() for word in words_lower if word.strip() not in StopWords]\n",
    "    words_counts = Counter(words_lower)\n",
    "    return words_counts.most_common(50)"
   ]
  },
  {
   "cell_type": "code",
   "execution_count": 8,
   "metadata": {
    "scrolled": true
   },
   "outputs": [
    {
     "name": "stdout",
     "output_type": "stream",
     "text": [
      "[('great', 5169), ('place', 4789), ('stay', 4526), ('boston', 3639), ('clean', 3446), ('nice', 2617), ('room', 2554), ('host', 2502), ('apartment', 2465), ('location', 2378), ('would', 2340), ('us', 2303), ('house', 2278), ('comfortable', 2058), ('good', 1736), ('easy', 1686), ('recommend', 1668), ('really', 1603), ('everything', 1557), ('home', 1494), ('close', 1406), ('time', 1364), ('well', 1275), ('definitely', 1234), ('also', 1201), ('walk', 1149), ('neighborhood', 1131), ('perfect', 1072), ('get', 1064), ('helpful', 1016), ('area', 979), ('friendly', 960), ('quiet', 954), ('one', 916), ('made', 909), ('check', 868), ('even', 860), ('kitchen', 838), ('needed', 834), ('experience', 834), ('like', 824), ('station', 803), ('staying', 801), ('downtown', 798), ('parking', 779), ('space', 771), ('wonderful', 761), ('convenient', 738), ('city', 736), ('family', 728)]\n",
      "[('great', 6085), ('stay', 4772), ('place', 4688), ('boston', 4152), ('apartment', 3527), ('clean', 3279), ('location', 3233), ('would', 2705), ('host', 2632), ('nice', 2622), ('us', 2549), ('room', 2346), ('comfortable', 2220), ('recommend', 1852), ('everything', 1793), ('easy', 1790), ('house', 1716), ('home', 1612), ('really', 1607), ('close', 1575), ('well', 1528), ('time', 1511), ('definitely', 1491), ('perfect', 1437), ('walk', 1429), ('good', 1423), ('also', 1362), ('neighborhood', 1350), ('area', 1158), ('helpful', 1104), ('made', 1088), ('restaurants', 1051), ('get', 1041), ('bed', 1023), ('quiet', 1014), ('wonderful', 977), ('staying', 941), ('back', 936), ('check', 934), ('beautiful', 925), ('highly', 908), ('even', 904), ('one', 898), ('experience', 886), ('needed', 883), ('friendly', 871), ('city', 863), ('like', 852), ('super', 818), ('street', 817)]\n",
      "[('great', 5638), ('apartment', 4718), ('stay', 4290), ('location', 4159), ('place', 4064), ('boston', 3939), ('clean', 2594), ('would', 2508), ('host', 1954), ('us', 1918), ('everything', 1896), ('nice', 1762), ('perfect', 1748), ('easy', 1666), ('comfortable', 1587), ('recommend', 1570), ('well', 1484), ('restaurants', 1330), ('definitely', 1261), ('walk', 1249), ('close', 1158), ('really', 1141), ('back', 1130), ('time', 1119), ('check', 1100), ('neighborhood', 1096), ('walking', 1020), ('beautiful', 1013), ('good', 1000), ('also', 1000), ('home', 929), ('area', 927), ('street', 921), ('one', 897), ('highly', 870), ('wonderful', 859), ('experience', 827), ('bed', 809), ('distance', 801), ('helpful', 801), ('room', 799), ('get', 799), ('like', 790), ('needed', 787), ('made', 786), ('quiet', 781), ('could', 778), ('even', 773), ('located', 765), ('right', 755)]\n"
     ]
    }
   ],
   "source": [
    "# print(StopWords)\n",
    "print(word_count(reviews_1))\n",
    "print(word_count(reviews_3))\n",
    "print(word_count(reviews_5))"
   ]
  },
  {
   "cell_type": "code",
   "execution_count": 9,
   "metadata": {
    "scrolled": true
   },
   "outputs": [
    {
     "name": "stdout",
     "output_type": "stream",
     "text": [
      "0.06212664277180406\n",
      "0.049878345498783457\n",
      "0.034383954154727794\n"
     ]
    }
   ],
   "source": [
    "print(neg_1 / df_1.shape[0])\n",
    "print(neg_3 / df_3.shape[0])\n",
    "print(neg_5 / df_5.shape[0])"
   ]
  },
  {
   "cell_type": "markdown",
   "metadata": {},
   "source": [
    "We can see from the result that the comments are barely relavated to the price level, adjective words like\"clean\", \"comfortable\", \"good\" are the most common words is comments. We can infer from that customers are quite satisfied with the quality of living condition of airbnb houses of Boston. Another intersting thing to notice that, the negative review ratio of the most expensive room is the highest, then the medium, the cheapest room get the lowest negative review ratio, which is quite surprizing."
   ]
  },
  {
   "cell_type": "code",
   "execution_count": null,
   "metadata": {
    "scrolled": false
   },
   "outputs": [
    {
     "data": {
      "image/png": "[encoded data removed]",
      "text/plain": [
       "<matplotlib.figure.Figure at 0x129996ba8>"
      ]
     },
     "metadata": {},
     "output_type": "display_data"
    }
   ],
   "source": [
    "labels = ['rating score < 80', 'rating score 80 - 90', 'rating score 90 - 95', 'rating score 95 - 100']\n",
    "new_df = new_df[new_df.rating_score > 0]\n",
    "sizes = [new_df[new_df.rating_score < 80].shape[0], \n",
    "        new_df[(new_df.rating_score >= 80) & (new_df.rating_score < 90)].shape[0], \n",
    "        new_df[(new_df.rating_score >= 90) & (new_df.rating_score < 95)].shape[0],\n",
    "        new_df[(new_df.rating_score >= 95) & (new_df.rating_score < 100)].shape[0]]\n",
    "colors = ['gold', 'yellowgreen', 'lightcoral', 'lightskyblue']\n",
    "x = new_df['rating_score']\n",
    "plt.hist(x, bins=30,facecolor = 'green', normed=1,edgecolor='k')\n",
    "plt.ylabel('Probability');\n",
    "plt.show()"
   ]
  },
  {
   "cell_type": "code",
   "execution_count": null,
   "metadata": {},
   "outputs": [],
   "source": [
    "# wordcloud of all the reviews in boston\n",
    "all_reviews = reviews_1 + reviews_3 + reviews_5\n",
    "StopWords = stopwords.words(\"english\")\n",
    "words = re.findall(r'\\w+', all_reviews)\n",
    "words_lower = [word.lower() for word in words if word.strip() not in StopWords]\n",
    "all_review_cleaned = ' '.join([word.lower() for word in words_lower if word.strip() not in StopWords])\n",
    "wordcloud = WordCloud(width = 1000, height = 700).generate(all_review_cleaned)\n",
    "plt.figure(figsize=(18,12))\n",
    "plt.imshow(wordcloud)\n",
    "plt.axis(\"off\")\n",
    "plt.show()"
   ]
  },
  {
   "cell_type": "code",
   "execution_count": null,
   "metadata": {},
   "outputs": [],
   "source": [
    "# wordcloud of lower rated room\n",
    "neg_df = new_df[new_df.rating_score > 0]\n",
    "neg_df = neg_df[neg_df.rating_score < 80]\n",
    "neg_review = \"\"\n",
    "for index, row in neg_df.iterrows():\n",
    "    neg_review += row[\"reviews\"]\n",
    "words = re.findall(r'\\w+', neg_review)\n",
    "StopWords = stopwords.words(\"english\")\n",
    "words_lower = [word.lower() for word in words if word.strip() not in StopWords]\n",
    "neg_review_cleaned = ' '.join([word.lower() for word in words_lower if word.strip() not in StopWords])\n",
    "words_lower = [word.lower() for word in words_lower if word.strip() not in StopWords]\n",
    "words_counts = Counter(words_lower)\n",
    "# print(words_counts.most_common(50))\n",
    "wordcloud = WordCloud(width = 1000, height = 700).generate(neg_review_cleaned)\n",
    "plt.figure(figsize=(18,12))\n",
    "plt.imshow(wordcloud)\n",
    "plt.axis(\"off\")\n",
    "plt.show()"
   ]
  },
  {
   "cell_type": "code",
   "execution_count": null,
   "metadata": {},
   "outputs": [],
   "source": [
    "# wordcloud of high rated room\n",
    "pos_df = new_df[new_df.rating_score > 95]\n",
    "pos_review = \"\"\n",
    "for index, row in pos_df.iterrows():\n",
    "    pos_review += row[\"reviews\"]\n",
    "words = re.findall(r'\\w+', pos_review)\n",
    "words_lower = [word.lower() for word in words if word.strip() not in StopWords]\n",
    "pos_review_cleaned = ' '.join([word.lower() for word in words_lower if word.strip() not in StopWords])\n",
    "words_lower = [word.lower() for word in words_lower if word.strip() not in StopWords]\n",
    "words_counts = Counter(words_lower)\n",
    "# print(words_counts.most_common(50))\n",
    "wordcloud = WordCloud(width = 1000, height = 700).generate(pos_review_cleaned)\n",
    "plt.figure(figsize=(18,12))\n",
    "plt.imshow(wordcloud)\n",
    "plt.axis(\"off\")\n",
    "plt.show()"
   ]
  }
 ],
 "metadata": {
  "kernelspec": {
   "display_name": "Python 3",
   "language": "python",
   "name": "python3"
  },
  "language_info": {
   "codemirror_mode": {
    "name": "ipython",
    "version": 3
   },
   "file_extension": ".py",
   "mimetype": "text/x-python",
   "name": "python",
   "nbconvert_exporter": "python",
   "pygments_lexer": "ipython3",
   "version": "3.6.1"
  }
 },
 "nbformat": 4,
 "nbformat_minor": 2
}
